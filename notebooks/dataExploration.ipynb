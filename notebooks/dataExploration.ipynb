{
 "cells": [
  {
   "cell_type": "markdown",
   "metadata": {},
   "source": [
    "## Data Analysis\n"
   ]
  },
  {
   "cell_type": "code",
   "execution_count": 2,
   "metadata": {},
   "outputs": [],
   "source": [
    "##importing necessary libraries\n",
    "import pandas as pd \n",
    "import numpy as np \n",
    "import matplotlib.pyplot as plt"
   ]
  },
  {
   "cell_type": "code",
   "execution_count": 3,
   "metadata": {},
   "outputs": [],
   "source": [
    "##understanding the dataset\n",
    "## the csv file consists of 4 columns\n",
    "##first column is label which refers to the ploarity if it is hate speech or not\n",
    "## second column is the catefory in which the speech belongs to for e.g General Profanity Violence etc\n",
    "## the third column contains the key word of the sentece\n",
    "## and finally the fourth column is the sentence itself\n"
   ]
  },
  {
   "cell_type": "code",
   "execution_count": 4,
   "metadata": {},
   "outputs": [],
   "source": [
    "colnames = ['label','category','key_word','sentence']\n",
    "df = pd.read_csv('./data.csv',names=colnames,header=None)"
   ]
  },
  {
   "cell_type": "code",
   "execution_count": 5,
   "metadata": {},
   "outputs": [
    {
     "data": {
      "text/html": [
       "<div>\n",
       "<style scoped>\n",
       "    .dataframe tbody tr th:only-of-type {\n",
       "        vertical-align: middle;\n",
       "    }\n",
       "\n",
       "    .dataframe tbody tr th {\n",
       "        vertical-align: top;\n",
       "    }\n",
       "\n",
       "    .dataframe thead th {\n",
       "        text-align: right;\n",
       "    }\n",
       "</style>\n",
       "<table border=\"1\" class=\"dataframe\">\n",
       "  <thead>\n",
       "    <tr style=\"text-align: right;\">\n",
       "      <th></th>\n",
       "      <th>label</th>\n",
       "      <th>category</th>\n",
       "      <th>key_word</th>\n",
       "      <th>sentence</th>\n",
       "    </tr>\n",
       "  </thead>\n",
       "  <tbody>\n",
       "    <tr>\n",
       "      <th>0</th>\n",
       "      <td>1</td>\n",
       "      <td>GENERAL</td>\n",
       "      <td>जोगाउन को लागि</td>\n",
       "      <td>गुठी विधेक ल्याएर ठमेल मा राज गुठि को जग्गा मा...</td>\n",
       "    </tr>\n",
       "    <tr>\n",
       "      <th>1</th>\n",
       "      <td>1</td>\n",
       "      <td>GENERAL</td>\n",
       "      <td>लखेटनु पछ</td>\n",
       "      <td>दले ले देश सकेछन सबै बेचे र खान सुरू गरेछन अब ...</td>\n",
       "    </tr>\n",
       "    <tr>\n",
       "      <th>2</th>\n",
       "      <td>1</td>\n",
       "      <td>GENERAL</td>\n",
       "      <td>ससकृती ध्वस्त पार्ने</td>\n",
       "      <td>नेपाल को ससकृती ध्वस्त पार्ने योजना हो यो !</td>\n",
       "    </tr>\n",
       "    <tr>\n",
       "      <th>3</th>\n",
       "      <td>1</td>\n",
       "      <td>GENERAL</td>\n",
       "      <td>भुमाफिया</td>\n",
       "      <td>मठ मन्दिर गुम्बा का जग्गा हरु मा भुमाफिया को न...</td>\n",
       "    </tr>\n",
       "    <tr>\n",
       "      <th>4</th>\n",
       "      <td>1</td>\n",
       "      <td>GENERAL</td>\n",
       "      <td>बेची सके</td>\n",
       "      <td>नेपाल का कल कर्खाना र नदि नाला बेची सके अब मठ ...</td>\n",
       "    </tr>\n",
       "  </tbody>\n",
       "</table>\n",
       "</div>"
      ],
      "text/plain": [
       "   label category              key_word  \\\n",
       "0      1  GENERAL        जोगाउन को लागि   \n",
       "1      1  GENERAL             लखेटनु पछ   \n",
       "2      1  GENERAL  ससकृती ध्वस्त पार्ने   \n",
       "3      1  GENERAL              भुमाफिया   \n",
       "4      1  GENERAL              बेची सके   \n",
       "\n",
       "                                            sentence  \n",
       "0  गुठी विधेक ल्याएर ठमेल मा राज गुठि को जग्गा मा...  \n",
       "1  दले ले देश सकेछन सबै बेचे र खान सुरू गरेछन अब ...  \n",
       "2        नेपाल को ससकृती ध्वस्त पार्ने योजना हो यो !  \n",
       "3  मठ मन्दिर गुम्बा का जग्गा हरु मा भुमाफिया को न...  \n",
       "4  नेपाल का कल कर्खाना र नदि नाला बेची सके अब मठ ...  "
      ]
     },
     "execution_count": 5,
     "metadata": {},
     "output_type": "execute_result"
    }
   ],
   "source": [
    "df.head()"
   ]
  },
  {
   "cell_type": "code",
   "execution_count": 7,
   "metadata": {},
   "outputs": [
    {
     "data": {
      "text/plain": [
       "label  category \n",
       "1      GENERAL      1782\n",
       "0      GENERAL      1053\n",
       "       FEEDBACK      428\n",
       "       PROFANITY     299\n",
       "1      VIOLENCE      174\n",
       "0      VIOLENCE      113\n",
       "1      PROFANITY     108\n",
       "       FEEDBACK       78\n",
       "dtype: int64"
      ]
     },
     "execution_count": 7,
     "metadata": {},
     "output_type": "execute_result"
    }
   ],
   "source": [
    "df[['label','category']].value_counts()"
   ]
  },
  {
   "cell_type": "code",
   "execution_count": 8,
   "metadata": {},
   "outputs": [],
   "source": [
    "## We dont necessarily need to find the category of the sentence\n",
    "## so we can get rid of the column\n",
    "## but we need to classify whether the sentences in the category are hate or not\n",
    "## so for this what we can do is:\n",
    "## set all feedback category to 0 label(not hate) \n",
    "## violence to label 1\n",
    "## profanity to label 1\n",
    "## and general will remain as is"
   ]
  },
  {
   "cell_type": "code",
   "execution_count": 9,
   "metadata": {},
   "outputs": [],
   "source": [
    "df.loc[df['category']=='FEEDBACK','label']=0\n"
   ]
  },
  {
   "cell_type": "code",
   "execution_count": 11,
   "metadata": {},
   "outputs": [
    {
     "data": {
      "text/plain": [
       "0    506\n",
       "Name: label, dtype: int64"
      ]
     },
     "execution_count": 11,
     "metadata": {},
     "output_type": "execute_result"
    }
   ],
   "source": [
    "df.loc[df['category']=='FEEDBACK'].label.value_counts()\n",
    "##i.e all the labels are now 0"
   ]
  },
  {
   "cell_type": "code",
   "execution_count": 12,
   "metadata": {},
   "outputs": [],
   "source": [
    "df.loc[df['category']=='VIOLENCE','label']=1"
   ]
  },
  {
   "cell_type": "code",
   "execution_count": 13,
   "metadata": {},
   "outputs": [],
   "source": [
    "df.loc[df['category']=='PROFANITY','label']=1"
   ]
  },
  {
   "cell_type": "code",
   "execution_count": 14,
   "metadata": {},
   "outputs": [
    {
     "data": {
      "text/plain": [
       "1    2476\n",
       "0    1559\n",
       "Name: label, dtype: int64"
      ]
     },
     "execution_count": 14,
     "metadata": {},
     "output_type": "execute_result"
    }
   ],
   "source": [
    "df.label.value_counts()"
   ]
  },
  {
   "cell_type": "code",
   "execution_count": 15,
   "metadata": {},
   "outputs": [
    {
     "data": {
      "text/html": [
       "<div>\n",
       "<style scoped>\n",
       "    .dataframe tbody tr th:only-of-type {\n",
       "        vertical-align: middle;\n",
       "    }\n",
       "\n",
       "    .dataframe tbody tr th {\n",
       "        vertical-align: top;\n",
       "    }\n",
       "\n",
       "    .dataframe thead th {\n",
       "        text-align: right;\n",
       "    }\n",
       "</style>\n",
       "<table border=\"1\" class=\"dataframe\">\n",
       "  <thead>\n",
       "    <tr style=\"text-align: right;\">\n",
       "      <th></th>\n",
       "      <th>label</th>\n",
       "      <th>category</th>\n",
       "      <th>key_word</th>\n",
       "      <th>sentence</th>\n",
       "    </tr>\n",
       "  </thead>\n",
       "  <tbody>\n",
       "    <tr>\n",
       "      <th>0</th>\n",
       "      <td>1</td>\n",
       "      <td>GENERAL</td>\n",
       "      <td>जोगाउन को लागि</td>\n",
       "      <td>गुठी विधेक ल्याएर ठमेल मा राज गुठि को जग्गा मा...</td>\n",
       "    </tr>\n",
       "    <tr>\n",
       "      <th>1</th>\n",
       "      <td>1</td>\n",
       "      <td>GENERAL</td>\n",
       "      <td>लखेटनु पछ</td>\n",
       "      <td>दले ले देश सकेछन सबै बेचे र खान सुरू गरेछन अब ...</td>\n",
       "    </tr>\n",
       "    <tr>\n",
       "      <th>2</th>\n",
       "      <td>1</td>\n",
       "      <td>GENERAL</td>\n",
       "      <td>ससकृती ध्वस्त पार्ने</td>\n",
       "      <td>नेपाल को ससकृती ध्वस्त पार्ने योजना हो यो !</td>\n",
       "    </tr>\n",
       "    <tr>\n",
       "      <th>3</th>\n",
       "      <td>1</td>\n",
       "      <td>GENERAL</td>\n",
       "      <td>भुमाफिया</td>\n",
       "      <td>मठ मन्दिर गुम्बा का जग्गा हरु मा भुमाफिया को न...</td>\n",
       "    </tr>\n",
       "    <tr>\n",
       "      <th>4</th>\n",
       "      <td>1</td>\n",
       "      <td>GENERAL</td>\n",
       "      <td>बेची सके</td>\n",
       "      <td>नेपाल का कल कर्खाना र नदि नाला बेची सके अब मठ ...</td>\n",
       "    </tr>\n",
       "  </tbody>\n",
       "</table>\n",
       "</div>"
      ],
      "text/plain": [
       "   label category              key_word  \\\n",
       "0      1  GENERAL        जोगाउन को लागि   \n",
       "1      1  GENERAL             लखेटनु पछ   \n",
       "2      1  GENERAL  ससकृती ध्वस्त पार्ने   \n",
       "3      1  GENERAL              भुमाफिया   \n",
       "4      1  GENERAL              बेची सके   \n",
       "\n",
       "                                            sentence  \n",
       "0  गुठी विधेक ल्याएर ठमेल मा राज गुठि को जग्गा मा...  \n",
       "1  दले ले देश सकेछन सबै बेचे र खान सुरू गरेछन अब ...  \n",
       "2        नेपाल को ससकृती ध्वस्त पार्ने योजना हो यो !  \n",
       "3  मठ मन्दिर गुम्बा का जग्गा हरु मा भुमाफिया को न...  \n",
       "4  नेपाल का कल कर्खाना र नदि नाला बेची सके अब मठ ...  "
      ]
     },
     "execution_count": 15,
     "metadata": {},
     "output_type": "execute_result"
    }
   ],
   "source": [
    "df.head()"
   ]
  },
  {
   "cell_type": "code",
   "execution_count": 17,
   "metadata": {},
   "outputs": [
    {
     "data": {
      "text/html": [
       "<div>\n",
       "<style scoped>\n",
       "    .dataframe tbody tr th:only-of-type {\n",
       "        vertical-align: middle;\n",
       "    }\n",
       "\n",
       "    .dataframe tbody tr th {\n",
       "        vertical-align: top;\n",
       "    }\n",
       "\n",
       "    .dataframe thead th {\n",
       "        text-align: right;\n",
       "    }\n",
       "</style>\n",
       "<table border=\"1\" class=\"dataframe\">\n",
       "  <thead>\n",
       "    <tr style=\"text-align: right;\">\n",
       "      <th></th>\n",
       "      <th>label</th>\n",
       "      <th>sentence</th>\n",
       "    </tr>\n",
       "  </thead>\n",
       "  <tbody>\n",
       "    <tr>\n",
       "      <th>0</th>\n",
       "      <td>1</td>\n",
       "      <td>गुठी विधेक ल्याएर ठमेल मा राज गुठि को जग्गा मा...</td>\n",
       "    </tr>\n",
       "    <tr>\n",
       "      <th>1</th>\n",
       "      <td>1</td>\n",
       "      <td>दले ले देश सकेछन सबै बेचे र खान सुरू गरेछन अब ...</td>\n",
       "    </tr>\n",
       "    <tr>\n",
       "      <th>2</th>\n",
       "      <td>1</td>\n",
       "      <td>नेपाल को ससकृती ध्वस्त पार्ने योजना हो यो !</td>\n",
       "    </tr>\n",
       "    <tr>\n",
       "      <th>3</th>\n",
       "      <td>1</td>\n",
       "      <td>मठ मन्दिर गुम्बा का जग्गा हरु मा भुमाफिया को न...</td>\n",
       "    </tr>\n",
       "    <tr>\n",
       "      <th>4</th>\n",
       "      <td>1</td>\n",
       "      <td>नेपाल का कल कर्खाना र नदि नाला बेची सके अब मठ ...</td>\n",
       "    </tr>\n",
       "    <tr>\n",
       "      <th>...</th>\n",
       "      <td>...</td>\n",
       "      <td>...</td>\n",
       "    </tr>\n",
       "    <tr>\n",
       "      <th>4030</th>\n",
       "      <td>0</td>\n",
       "      <td>गाडी एकदम राम्रो छ तर रोड भने आलु जस्तो छ दुइच...</td>\n",
       "    </tr>\n",
       "    <tr>\n",
       "      <th>4031</th>\n",
       "      <td>0</td>\n",
       "      <td>गाडी एकदम राम्रो छ तर रोड भने आलु जस्तो छ दुइच...</td>\n",
       "    </tr>\n",
       "    <tr>\n",
       "      <th>4032</th>\n",
       "      <td>0</td>\n",
       "      <td>कम से कम वायु प्रदूषण त कम हुन्छ ।</td>\n",
       "    </tr>\n",
       "    <tr>\n",
       "      <th>4033</th>\n",
       "      <td>0</td>\n",
       "      <td>अब यसरी नै अन्य बस हरु थप्दै लानु पर्छ ।</td>\n",
       "    </tr>\n",
       "    <tr>\n",
       "      <th>4034</th>\n",
       "      <td>0</td>\n",
       "      <td>गाडीत आयो तर सडक स्तरउन्नती गर्न्नु पर्छ ।</td>\n",
       "    </tr>\n",
       "  </tbody>\n",
       "</table>\n",
       "<p>4035 rows × 2 columns</p>\n",
       "</div>"
      ],
      "text/plain": [
       "      label                                           sentence\n",
       "0         1  गुठी विधेक ल्याएर ठमेल मा राज गुठि को जग्गा मा...\n",
       "1         1  दले ले देश सकेछन सबै बेचे र खान सुरू गरेछन अब ...\n",
       "2         1        नेपाल को ससकृती ध्वस्त पार्ने योजना हो यो !\n",
       "3         1  मठ मन्दिर गुम्बा का जग्गा हरु मा भुमाफिया को न...\n",
       "4         1  नेपाल का कल कर्खाना र नदि नाला बेची सके अब मठ ...\n",
       "...     ...                                                ...\n",
       "4030      0  गाडी एकदम राम्रो छ तर रोड भने आलु जस्तो छ दुइच...\n",
       "4031      0  गाडी एकदम राम्रो छ तर रोड भने आलु जस्तो छ दुइच...\n",
       "4032      0                 कम से कम वायु प्रदूषण त कम हुन्छ ।\n",
       "4033      0           अब यसरी नै अन्य बस हरु थप्दै लानु पर्छ ।\n",
       "4034      0         गाडीत आयो तर सडक स्तरउन्नती गर्न्नु पर्छ ।\n",
       "\n",
       "[4035 rows x 2 columns]"
      ]
     },
     "execution_count": 17,
     "metadata": {},
     "output_type": "execute_result"
    }
   ],
   "source": [
    "df.drop(['category','key_word'],axis=1)"
   ]
  },
  {
   "cell_type": "code",
   "execution_count": 18,
   "metadata": {},
   "outputs": [
    {
     "data": {
      "text/html": [
       "<div>\n",
       "<style scoped>\n",
       "    .dataframe tbody tr th:only-of-type {\n",
       "        vertical-align: middle;\n",
       "    }\n",
       "\n",
       "    .dataframe tbody tr th {\n",
       "        vertical-align: top;\n",
       "    }\n",
       "\n",
       "    .dataframe thead th {\n",
       "        text-align: right;\n",
       "    }\n",
       "</style>\n",
       "<table border=\"1\" class=\"dataframe\">\n",
       "  <thead>\n",
       "    <tr style=\"text-align: right;\">\n",
       "      <th></th>\n",
       "      <th>label</th>\n",
       "      <th>category</th>\n",
       "      <th>key_word</th>\n",
       "      <th>sentence</th>\n",
       "    </tr>\n",
       "  </thead>\n",
       "  <tbody>\n",
       "    <tr>\n",
       "      <th>0</th>\n",
       "      <td>1</td>\n",
       "      <td>GENERAL</td>\n",
       "      <td>जोगाउन को लागि</td>\n",
       "      <td>गुठी विधेक ल्याएर ठमेल मा राज गुठि को जग्गा मा...</td>\n",
       "    </tr>\n",
       "    <tr>\n",
       "      <th>1</th>\n",
       "      <td>1</td>\n",
       "      <td>GENERAL</td>\n",
       "      <td>लखेटनु पछ</td>\n",
       "      <td>दले ले देश सकेछन सबै बेचे र खान सुरू गरेछन अब ...</td>\n",
       "    </tr>\n",
       "    <tr>\n",
       "      <th>2</th>\n",
       "      <td>1</td>\n",
       "      <td>GENERAL</td>\n",
       "      <td>ससकृती ध्वस्त पार्ने</td>\n",
       "      <td>नेपाल को ससकृती ध्वस्त पार्ने योजना हो यो !</td>\n",
       "    </tr>\n",
       "    <tr>\n",
       "      <th>3</th>\n",
       "      <td>1</td>\n",
       "      <td>GENERAL</td>\n",
       "      <td>भुमाफिया</td>\n",
       "      <td>मठ मन्दिर गुम्बा का जग्गा हरु मा भुमाफिया को न...</td>\n",
       "    </tr>\n",
       "    <tr>\n",
       "      <th>4</th>\n",
       "      <td>1</td>\n",
       "      <td>GENERAL</td>\n",
       "      <td>बेची सके</td>\n",
       "      <td>नेपाल का कल कर्खाना र नदि नाला बेची सके अब मठ ...</td>\n",
       "    </tr>\n",
       "  </tbody>\n",
       "</table>\n",
       "</div>"
      ],
      "text/plain": [
       "   label category              key_word  \\\n",
       "0      1  GENERAL        जोगाउन को लागि   \n",
       "1      1  GENERAL             लखेटनु पछ   \n",
       "2      1  GENERAL  ससकृती ध्वस्त पार्ने   \n",
       "3      1  GENERAL              भुमाफिया   \n",
       "4      1  GENERAL              बेची सके   \n",
       "\n",
       "                                            sentence  \n",
       "0  गुठी विधेक ल्याएर ठमेल मा राज गुठि को जग्गा मा...  \n",
       "1  दले ले देश सकेछन सबै बेचे र खान सुरू गरेछन अब ...  \n",
       "2        नेपाल को ससकृती ध्वस्त पार्ने योजना हो यो !  \n",
       "3  मठ मन्दिर गुम्बा का जग्गा हरु मा भुमाफिया को न...  \n",
       "4  नेपाल का कल कर्खाना र नदि नाला बेची सके अब मठ ...  "
      ]
     },
     "execution_count": 18,
     "metadata": {},
     "output_type": "execute_result"
    }
   ],
   "source": [
    "df.head()"
   ]
  },
  {
   "cell_type": "code",
   "execution_count": 19,
   "metadata": {},
   "outputs": [],
   "source": [
    "##now we need to get rid of all the english words and the emojis \n"
   ]
  },
  {
   "cell_type": "code",
   "execution_count": null,
   "metadata": {},
   "outputs": [],
   "source": []
  }
 ],
 "metadata": {
  "kernelspec": {
   "display_name": "Python 3.7.13 ('nlp')",
   "language": "python",
   "name": "python3"
  },
  "language_info": {
   "codemirror_mode": {
    "name": "ipython",
    "version": 3
   },
   "file_extension": ".py",
   "mimetype": "text/x-python",
   "name": "python",
   "nbconvert_exporter": "python",
   "pygments_lexer": "ipython3",
   "version": "3.7.13"
  },
  "orig_nbformat": 4,
  "vscode": {
   "interpreter": {
    "hash": "7cf1c168d150e1e104c424516c96890371ac80e69d0ab891e31240b3bf99dce8"
   }
  }
 },
 "nbformat": 4,
 "nbformat_minor": 2
}
